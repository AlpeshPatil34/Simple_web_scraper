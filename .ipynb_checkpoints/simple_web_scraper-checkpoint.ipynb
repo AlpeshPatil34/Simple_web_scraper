{
 "cells": [
  {
   "cell_type": "code",
   "execution_count": 207,
   "metadata": {},
   "outputs": [],
   "source": [
    "from bs4 import BeautifulSoup\n",
    "import requests\n",
    "import numpy as np\n",
    "import re\n",
    "import pandas as pd"
   ]
  },
  {
   "cell_type": "code",
   "execution_count": 305,
   "metadata": {},
   "outputs": [],
   "source": [
    "def extract_books_from_result(soup):\n",
    "    returner = {'books': [], 'authors': []}\n",
    "    for book in soup.find_all('div', attrs={'class':'text'}):\n",
    "        try:\n",
    "            text = book.find('div', attrs={'class':'cmp-text text'}).text\n",
    "            pattern = re.compile(r'(?<=. ).+(?=\\n)')\n",
    "            appender = re.findall(pattern,text)[0].split(' by')\n",
    "            \n",
    "            if len(appender) > 1:\n",
    "                returner['books'].append(appender[0])\n",
    "                returner['authors'].append(appender[1])\n",
    "                \n",
    "        except:\n",
    "            None\n",
    "            \n",
    "    returner_df = pd.DataFrame(returner, columns=['books','authors']) \n",
    "    \n",
    "    return returner_df"
   ]
  },
  {
   "cell_type": "code",
   "execution_count": 306,
   "metadata": {},
   "outputs": [],
   "source": [
    "url = 'https://www.penguin.co.uk/articles/2018/100-must-read-classic-books/'\n",
    "r = requests.get(url)\n",
    "soup = BeautifulSoup(r.text,'html.parser')\n",
    "results = extract_books_from_result(soup)"
   ]
  },
  {
   "cell_type": "code",
   "execution_count": 312,
   "metadata": {
    "scrolled": true
   },
   "outputs": [],
   "source": [
    "results.to_csv('/Users/gonzaloferreiro/Documents/GitHub/Simple_web_scraper/books_and_authors')"
   ]
  }
 ],
 "metadata": {
  "kernelspec": {
   "display_name": "Python 3",
   "language": "python",
   "name": "python3"
  },
  "language_info": {
   "codemirror_mode": {
    "name": "ipython",
    "version": 3
   },
   "file_extension": ".py",
   "mimetype": "text/x-python",
   "name": "python",
   "nbconvert_exporter": "python",
   "pygments_lexer": "ipython3",
   "version": "3.6.8"
  }
 },
 "nbformat": 4,
 "nbformat_minor": 2
}
